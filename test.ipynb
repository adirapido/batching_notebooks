{
 "cells": [
  {
   "cell_type": "code",
   "execution_count": 1,
   "metadata": {},
   "outputs": [],
   "source": [
    "import pandas as pd\n",
    "import seaborn as sns"
   ]
  },
  {
   "cell_type": "code",
   "execution_count": 31,
   "metadata": {},
   "outputs": [
    {
     "data": {
      "text/html": [
       "<div>\n",
       "<style scoped>\n",
       "    .dataframe tbody tr th:only-of-type {\n",
       "        vertical-align: middle;\n",
       "    }\n",
       "\n",
       "    .dataframe tbody tr th {\n",
       "        vertical-align: top;\n",
       "    }\n",
       "\n",
       "    .dataframe thead th {\n",
       "        text-align: right;\n",
       "    }\n",
       "</style>\n",
       "<table border=\"1\" class=\"dataframe\">\n",
       "  <thead>\n",
       "    <tr style=\"text-align: right;\">\n",
       "      <th></th>\n",
       "      <th>date</th>\n",
       "      <th>Day</th>\n",
       "      <th>Hour</th>\n",
       "      <th>TTC_COBRA_Zone1</th>\n",
       "      <th>TTC_COBRA_Zone2</th>\n",
       "      <th>COBRA_zone1</th>\n",
       "      <th>COBRA_zone2</th>\n",
       "      <th>TTC_OCARA_Zone1</th>\n",
       "      <th>TTC_OCARA_Zone2</th>\n",
       "      <th>OCARA_zone1</th>\n",
       "      <th>OCARA_zone2</th>\n",
       "    </tr>\n",
       "  </thead>\n",
       "  <tbody>\n",
       "    <tr>\n",
       "      <th>0</th>\n",
       "      <td>2022-09-19</td>\n",
       "      <td>Monday</td>\n",
       "      <td>0</td>\n",
       "      <td>84.753</td>\n",
       "      <td>95.287</td>\n",
       "      <td>0.3863</td>\n",
       "      <td>0.2558</td>\n",
       "      <td>350.6315</td>\n",
       "      <td>423.9950</td>\n",
       "      <td>0.3389</td>\n",
       "      <td>0.3101</td>\n",
       "    </tr>\n",
       "    <tr>\n",
       "      <th>1</th>\n",
       "      <td>2022-09-19</td>\n",
       "      <td>Monday</td>\n",
       "      <td>1</td>\n",
       "      <td>82.559</td>\n",
       "      <td>74.163</td>\n",
       "      <td>0.3367</td>\n",
       "      <td>0.2952</td>\n",
       "      <td>240.0930</td>\n",
       "      <td>299.6880</td>\n",
       "      <td>0.3418</td>\n",
       "      <td>0.3619</td>\n",
       "    </tr>\n",
       "    <tr>\n",
       "      <th>2</th>\n",
       "      <td>2022-09-19</td>\n",
       "      <td>Monday</td>\n",
       "      <td>2</td>\n",
       "      <td>111.068</td>\n",
       "      <td>38.347</td>\n",
       "      <td>0.3558</td>\n",
       "      <td>0.3750</td>\n",
       "      <td>276.1825</td>\n",
       "      <td>400.7165</td>\n",
       "      <td>0.2885</td>\n",
       "      <td>0.2188</td>\n",
       "    </tr>\n",
       "    <tr>\n",
       "      <th>3</th>\n",
       "      <td>2022-09-19</td>\n",
       "      <td>Monday</td>\n",
       "      <td>3</td>\n",
       "      <td>103.191</td>\n",
       "      <td>63.931</td>\n",
       "      <td>0.3704</td>\n",
       "      <td>0.3889</td>\n",
       "      <td>432.0510</td>\n",
       "      <td>543.2175</td>\n",
       "      <td>0.3210</td>\n",
       "      <td>0.1944</td>\n",
       "    </tr>\n",
       "    <tr>\n",
       "      <th>4</th>\n",
       "      <td>2022-09-19</td>\n",
       "      <td>Monday</td>\n",
       "      <td>4</td>\n",
       "      <td>71.640</td>\n",
       "      <td>104.951</td>\n",
       "      <td>0.5254</td>\n",
       "      <td>0.3889</td>\n",
       "      <td>437.0380</td>\n",
       "      <td>528.8800</td>\n",
       "      <td>0.2034</td>\n",
       "      <td>0.2778</td>\n",
       "    </tr>\n",
       "  </tbody>\n",
       "</table>\n",
       "</div>"
      ],
      "text/plain": [
       "        date     Day  Hour  TTC_COBRA_Zone1  TTC_COBRA_Zone2  COBRA_zone1  \\\n",
       "0 2022-09-19  Monday     0           84.753           95.287       0.3863   \n",
       "1 2022-09-19  Monday     1           82.559           74.163       0.3367   \n",
       "2 2022-09-19  Monday     2          111.068           38.347       0.3558   \n",
       "3 2022-09-19  Monday     3          103.191           63.931       0.3704   \n",
       "4 2022-09-19  Monday     4           71.640          104.951       0.5254   \n",
       "\n",
       "   COBRA_zone2  TTC_OCARA_Zone1  TTC_OCARA_Zone2  OCARA_zone1  OCARA_zone2  \n",
       "0       0.2558         350.6315         423.9950       0.3389       0.3101  \n",
       "1       0.2952         240.0930         299.6880       0.3418       0.3619  \n",
       "2       0.3750         276.1825         400.7165       0.2885       0.2188  \n",
       "3       0.3889         432.0510         543.2175       0.3210       0.1944  \n",
       "4       0.3889         437.0380         528.8800       0.2034       0.2778  "
      ]
     },
     "execution_count": 31,
     "metadata": {},
     "output_type": "execute_result"
    }
   ],
   "source": [
    "df = pd.read_excel('mistiming (1).xlsx', sheet_name = 'Sheet6')\n",
    "df.head()"
   ]
  },
  {
   "cell_type": "code",
   "execution_count": 32,
   "metadata": {},
   "outputs": [
    {
     "data": {
      "text/plain": [
       "<AxesSubplot: xlabel='TTC_COBRA_Zone1', ylabel='COBRA_zone1'>"
      ]
     },
     "execution_count": 32,
     "metadata": {},
     "output_type": "execute_result"
    },
    {
     "data": {
      "image/png": "[encoded data removed]",
      "text/plain": [
       "<Figure size 640x480 with 1 Axes>"
      ]
     },
     "metadata": {},
     "output_type": "display_data"
    }
   ],
   "source": [
    "sns.scatterplot(x = df[df['Hour'].isin([8, 9, 10, 11, 17, 18, 19, 20, 21])]['TTC_COBRA_Zone1'],\n",
    " y = df[df['Hour'].isin([8, 9, 10, 11, 17, 18, 19, 20, 21])]['COBRA_zone1'])"
   ]
  },
  {
   "cell_type": "code",
   "execution_count": 30,
   "metadata": {},
   "outputs": [
    {
     "name": "stderr",
     "output_type": "stream",
     "text": [
      "/var/folders/40/q_l7gzjd6cz0m__l6pfljvkc0000gn/T/ipykernel_8587/1334248090.py:1: FutureWarning: The default value of numeric_only in DataFrame.corr is deprecated. In a future version, it will default to False. Select only valid columns or specify the value of numeric_only to silence this warning.\n",
      "  df[df['Hour'].isin([8, 9, 10, 11, 17, 18, 19, 20, 21])].corr()\n"
     ]
    },
    {
     "data": {
      "text/html": [
       "<div>\n",
       "<style scoped>\n",
       "    .dataframe tbody tr th:only-of-type {\n",
       "        vertical-align: middle;\n",
       "    }\n",
       "\n",
       "    .dataframe tbody tr th {\n",
       "        vertical-align: top;\n",
       "    }\n",
       "\n",
       "    .dataframe thead th {\n",
       "        text-align: right;\n",
       "    }\n",
       "</style>\n",
       "<table border=\"1\" class=\"dataframe\">\n",
       "  <thead>\n",
       "    <tr style=\"text-align: right;\">\n",
       "      <th></th>\n",
       "      <th>Hour</th>\n",
       "      <th>TTC_COBRA_Zone1</th>\n",
       "      <th>TTC_COBRA_Zone2</th>\n",
       "      <th>COBRA_zone1</th>\n",
       "      <th>COBRA_zone2</th>\n",
       "      <th>TTC_OCARA_Zone1</th>\n",
       "      <th>TTC_OCARA_Zone2</th>\n",
       "      <th>OCARA_zone1</th>\n",
       "      <th>OCARA_zone2</th>\n",
       "    </tr>\n",
       "  </thead>\n",
       "  <tbody>\n",
       "    <tr>\n",
       "      <th>Hour</th>\n",
       "      <td>1.000000</td>\n",
       "      <td>0.305639</td>\n",
       "      <td>0.229287</td>\n",
       "      <td>0.104954</td>\n",
       "      <td>0.447725</td>\n",
       "      <td>0.005318</td>\n",
       "      <td>0.173874</td>\n",
       "      <td>0.073777</td>\n",
       "      <td>0.463031</td>\n",
       "    </tr>\n",
       "    <tr>\n",
       "      <th>TTC_COBRA_Zone1</th>\n",
       "      <td>0.305639</td>\n",
       "      <td>1.000000</td>\n",
       "      <td>0.495707</td>\n",
       "      <td>0.514816</td>\n",
       "      <td>0.373538</td>\n",
       "      <td>0.016980</td>\n",
       "      <td>0.318497</td>\n",
       "      <td>0.366235</td>\n",
       "      <td>0.225483</td>\n",
       "    </tr>\n",
       "    <tr>\n",
       "      <th>TTC_COBRA_Zone2</th>\n",
       "      <td>0.229287</td>\n",
       "      <td>0.495707</td>\n",
       "      <td>1.000000</td>\n",
       "      <td>0.369580</td>\n",
       "      <td>0.411689</td>\n",
       "      <td>0.076339</td>\n",
       "      <td>0.389078</td>\n",
       "      <td>0.233035</td>\n",
       "      <td>0.296162</td>\n",
       "    </tr>\n",
       "    <tr>\n",
       "      <th>COBRA_zone1</th>\n",
       "      <td>0.104954</td>\n",
       "      <td>0.514816</td>\n",
       "      <td>0.369580</td>\n",
       "      <td>1.000000</td>\n",
       "      <td>0.577715</td>\n",
       "      <td>0.427005</td>\n",
       "      <td>0.315654</td>\n",
       "      <td>0.503090</td>\n",
       "      <td>0.489349</td>\n",
       "    </tr>\n",
       "    <tr>\n",
       "      <th>COBRA_zone2</th>\n",
       "      <td>0.447725</td>\n",
       "      <td>0.373538</td>\n",
       "      <td>0.411689</td>\n",
       "      <td>0.577715</td>\n",
       "      <td>1.000000</td>\n",
       "      <td>0.341754</td>\n",
       "      <td>0.415329</td>\n",
       "      <td>0.095001</td>\n",
       "      <td>0.619594</td>\n",
       "    </tr>\n",
       "    <tr>\n",
       "      <th>TTC_OCARA_Zone1</th>\n",
       "      <td>0.005318</td>\n",
       "      <td>0.016980</td>\n",
       "      <td>0.076339</td>\n",
       "      <td>0.427005</td>\n",
       "      <td>0.341754</td>\n",
       "      <td>1.000000</td>\n",
       "      <td>0.139952</td>\n",
       "      <td>-0.006534</td>\n",
       "      <td>0.270257</td>\n",
       "    </tr>\n",
       "    <tr>\n",
       "      <th>TTC_OCARA_Zone2</th>\n",
       "      <td>0.173874</td>\n",
       "      <td>0.318497</td>\n",
       "      <td>0.389078</td>\n",
       "      <td>0.315654</td>\n",
       "      <td>0.415329</td>\n",
       "      <td>0.139952</td>\n",
       "      <td>1.000000</td>\n",
       "      <td>0.062330</td>\n",
       "      <td>0.139024</td>\n",
       "    </tr>\n",
       "    <tr>\n",
       "      <th>OCARA_zone1</th>\n",
       "      <td>0.073777</td>\n",
       "      <td>0.366235</td>\n",
       "      <td>0.233035</td>\n",
       "      <td>0.503090</td>\n",
       "      <td>0.095001</td>\n",
       "      <td>-0.006534</td>\n",
       "      <td>0.062330</td>\n",
       "      <td>1.000000</td>\n",
       "      <td>0.355107</td>\n",
       "    </tr>\n",
       "    <tr>\n",
       "      <th>OCARA_zone2</th>\n",
       "      <td>0.463031</td>\n",
       "      <td>0.225483</td>\n",
       "      <td>0.296162</td>\n",
       "      <td>0.489349</td>\n",
       "      <td>0.619594</td>\n",
       "      <td>0.270257</td>\n",
       "      <td>0.139024</td>\n",
       "      <td>0.355107</td>\n",
       "      <td>1.000000</td>\n",
       "    </tr>\n",
       "  </tbody>\n",
       "</table>\n",
       "</div>"
      ],
      "text/plain": [
       "                     Hour  TTC_COBRA_Zone1  TTC_COBRA_Zone2  COBRA_zone1  \\\n",
       "Hour             1.000000         0.305639         0.229287     0.104954   \n",
       "TTC_COBRA_Zone1  0.305639         1.000000         0.495707     0.514816   \n",
       "TTC_COBRA_Zone2  0.229287         0.495707         1.000000     0.369580   \n",
       "COBRA_zone1      0.104954         0.514816         0.369580     1.000000   \n",
       "COBRA_zone2      0.447725         0.373538         0.411689     0.577715   \n",
       "TTC_OCARA_Zone1  0.005318         0.016980         0.076339     0.427005   \n",
       "TTC_OCARA_Zone2  0.173874         0.318497         0.389078     0.315654   \n",
       "OCARA_zone1      0.073777         0.366235         0.233035     0.503090   \n",
       "OCARA_zone2      0.463031         0.225483         0.296162     0.489349   \n",
       "\n",
       "                 COBRA_zone2  TTC_OCARA_Zone1  TTC_OCARA_Zone2  OCARA_zone1  \\\n",
       "Hour                0.447725         0.005318         0.173874     0.073777   \n",
       "TTC_COBRA_Zone1     0.373538         0.016980         0.318497     0.366235   \n",
       "TTC_COBRA_Zone2     0.411689         0.076339         0.389078     0.233035   \n",
       "COBRA_zone1         0.577715         0.427005         0.315654     0.503090   \n",
       "COBRA_zone2         1.000000         0.341754         0.415329     0.095001   \n",
       "TTC_OCARA_Zone1     0.341754         1.000000         0.139952    -0.006534   \n",
       "TTC_OCARA_Zone2     0.415329         0.139952         1.000000     0.062330   \n",
       "OCARA_zone1         0.095001        -0.006534         0.062330     1.000000   \n",
       "OCARA_zone2         0.619594         0.270257         0.139024     0.355107   \n",
       "\n",
       "                 OCARA_zone2  \n",
       "Hour                0.463031  \n",
       "TTC_COBRA_Zone1     0.225483  \n",
       "TTC_COBRA_Zone2     0.296162  \n",
       "COBRA_zone1         0.489349  \n",
       "COBRA_zone2         0.619594  \n",
       "TTC_OCARA_Zone1     0.270257  \n",
       "TTC_OCARA_Zone2     0.139024  \n",
       "OCARA_zone1         0.355107  \n",
       "OCARA_zone2         1.000000  "
      ]
     },
     "execution_count": 30,
     "metadata": {},
     "output_type": "execute_result"
    }
   ],
   "source": [
    "df[df['Hour'].isin([8, 9, 10, 11, 17, 18, 19, 20, 21])].corr()"
   ]
  },
  {
   "cell_type": "code",
   "execution_count": 17,
   "metadata": {},
   "outputs": [
    {
     "data": {
      "text/plain": [
       "<AxesSubplot: xlabel='TTC_OCARA_Zone1', ylabel='OCARA_zone1'>"
      ]
     },
     "execution_count": 17,
     "metadata": {},
     "output_type": "execute_result"
    },
    {
     "data": {
      "image/png": "[encoded data removed]",
      "text/plain": [
       "<Figure size 640x480 with 1 Axes>"
      ]
     },
     "metadata": {},
     "output_type": "display_data"
    }
   ],
   "source": [
    "sns.scatterplot(x = df[df['Hour'].isin([8, 9, 10, 11, 17, 18, 19, 20, 21])]['TTC_OCARA_Zone1'],\n",
    " y = df[df['Hour'].isin([8, 9, 10, 11, 17, 18, 19, 20, 21])]['OCARA_zone1'])"
   ]
  },
  {
   "cell_type": "code",
   "execution_count": null,
   "metadata": {},
   "outputs": [],
   "source": []
  }
 ],
 "metadata": {
  "kernelspec": {
   "display_name": "Python 3.10.7 64-bit",
   "language": "python",
   "name": "python3"
  },
  "language_info": {
   "codemirror_mode": {
    "name": "ipython",
    "version": 3
   },
   "file_extension": ".py",
   "mimetype": "text/x-python",
   "name": "python",
   "nbconvert_exporter": "python",
   "pygments_lexer": "ipython3",
   "version": "3.10.7"
  },
  "orig_nbformat": 4,
  "vscode": {
   "interpreter": {
    "hash": "aee8b7b246df8f9039afb4144a1f6fd8d2ca17a180786b69acc140d282b71a49"
   }
  }
 },
 "nbformat": 4,
 "nbformat_minor": 2
}
